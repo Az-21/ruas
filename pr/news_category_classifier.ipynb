{
 "cells": [
  {
   "cell_type": "code",
   "execution_count": null,
   "metadata": {},
   "outputs": [],
   "source": [
    "import numpy as np\n",
    "import pandas as pd\n",
    "import seaborn as sns\n",
    "import matplotlib.pyplot as plt\n",
    "\n",
    "from sklearn.svm import SVC\n",
    "from sklearn.metrics import accuracy_score\n",
    "from sklearn.naive_bayes import MultinomialNB\n",
    "from sklearn.tree import DecisionTreeClassifier\n",
    "from sklearn.metrics import classification_report\n",
    "from sklearn.model_selection import train_test_split\n",
    "from sklearn.feature_extraction.text import TfidfVectorizer\n",
    "\n",
    "sns.set_theme()\n"
   ]
  },
  {
   "cell_type": "code",
   "execution_count": null,
   "metadata": {},
   "outputs": [],
   "source": [
    "# Load CNN news dataset\n",
    "df = pd.read_csv(\"news.csv\")\n",
    "df.__len__()\n"
   ]
  },
  {
   "cell_type": "code",
   "execution_count": null,
   "metadata": {},
   "outputs": [],
   "source": [
    "# Trim database to keep relevant columns\n",
    "keep_columns = [\"Title\", \"Description\", \"Body\", \"Theme\"]\n",
    "df = df[keep_columns]\n",
    "\n",
    "# Drop rows with NULL values\n",
    "df = df.dropna()\n",
    "\n",
    "df.__len__()\n"
   ]
  },
  {
   "cell_type": "code",
   "execution_count": null,
   "metadata": {},
   "outputs": [],
   "source": [
    "# Accumulate title, description, and body under one column\n",
    "SPACE = \" \"\n",
    "df[\"Features\"] = df[\"Title\"] + SPACE + df[\"Description\"] + SPACE + df[\"Body\"]\n",
    "df[\"Label\"] = df[\"Theme\"]\n"
   ]
  },
  {
   "cell_type": "code",
   "execution_count": null,
   "metadata": {},
   "outputs": [],
   "source": [
    "# Split the data into training and testing sets\n",
    "X = df[\"Features\"]\n",
    "y = df[\"Label\"]\n",
    "X_train, X_test, y_train, y_test = train_test_split(X, y, test_size=0.2, random_state=42)\n"
   ]
  },
  {
   "cell_type": "code",
   "execution_count": null,
   "metadata": {},
   "outputs": [],
   "source": [
    "# Create a TF-IDF vectorizer and transform the text data\n",
    "tfidf_vectorizer = TfidfVectorizer(max_features=5000, stop_words=\"english\")\n",
    "X_train_tfidf = tfidf_vectorizer.fit_transform(X_train)\n",
    "X_test_tfidf = tfidf_vectorizer.transform(X_test)\n"
   ]
  },
  {
   "cell_type": "code",
   "execution_count": null,
   "metadata": {},
   "outputs": [],
   "source": [
    "# Train SVM\n",
    "svm_classifier = SVC(C=1.0, kernel=\"linear\", gamma=\"scale\", probability=True, random_state=21)\n",
    "svm_classifier.fit(X_train_tfidf, y_train)\n"
   ]
  },
  {
   "cell_type": "code",
   "execution_count": null,
   "metadata": {},
   "outputs": [],
   "source": [
    "# Train naive bayes\n",
    "naive_bayes_classifier = MultinomialNB()\n",
    "naive_bayes_classifier.fit(X_train_tfidf, y_train)\n"
   ]
  },
  {
   "cell_type": "code",
   "execution_count": null,
   "metadata": {},
   "outputs": [],
   "source": [
    "# Train decision tree\n",
    "decision_tree_classifier = DecisionTreeClassifier(random_state=21, max_depth=4)\n",
    "decision_tree_classifier.fit(X_train_tfidf, y_train)\n"
   ]
  },
  {
   "cell_type": "code",
   "execution_count": null,
   "metadata": {},
   "outputs": [],
   "source": [
    "# Predict probabilities for each classifier\n",
    "svm_probs = svm_classifier.predict_proba(X_test_tfidf)\n",
    "nb_probs = naive_bayes_classifier.predict_proba(X_test_tfidf)\n",
    "dt_probs = decision_tree_classifier.predict_proba(X_test_tfidf)\n"
   ]
  },
  {
   "cell_type": "code",
   "execution_count": null,
   "metadata": {},
   "outputs": [],
   "source": [
    "# Predict with individual classifiers\n",
    "svm_predictions = svm_classifier.predict(X_test_tfidf)\n",
    "nb_predictions = naive_bayes_classifier.predict(X_test_tfidf)\n",
    "dt_predictions = decision_tree_classifier.predict(X_test_tfidf)\n"
   ]
  },
  {
   "cell_type": "code",
   "execution_count": null,
   "metadata": {},
   "outputs": [],
   "source": [
    "# SVM report\n",
    "svm_report = classification_report(y_test, svm_predictions)\n",
    "print(svm_report)\n"
   ]
  },
  {
   "cell_type": "code",
   "execution_count": null,
   "metadata": {},
   "outputs": [],
   "source": [
    "# Naive Bayes report\n",
    "nb_report = classification_report(y_test, nb_predictions)\n",
    "print(nb_report)\n"
   ]
  },
  {
   "cell_type": "code",
   "execution_count": null,
   "metadata": {},
   "outputs": [],
   "source": [
    "# Decision tree report\n",
    "dt_report = classification_report(y_test, dt_predictions)\n",
    "print(dt_report)\n"
   ]
  },
  {
   "cell_type": "code",
   "execution_count": null,
   "metadata": {},
   "outputs": [],
   "source": [
    "# Setup 1x3 subplot\n",
    "fig, axis = plt.subplots(1, 3, figsize=(10, 4), dpi=300)\n",
    "for i in range(3):\n",
    "    axis[i].tick_params(axis=\"x\", rotation=90)\n",
    "    axis[i].set_ylim([0, 1])\n",
    "\n",
    "axis[0].set_title(\"Support Vector Machine\")\n",
    "sns.barplot(y=svm_probs[0], x=svm_classifier.classes_, ax=axis[0])\n",
    "\n",
    "axis[1].set_title(\"Naive Bayes\")\n",
    "sns.barplot(y=nb_probs[0], x=naive_bayes_classifier.classes_, ax=axis[1])\n",
    "\n",
    "axis[2].set_title(\"Decision Tree\")\n",
    "sns.barplot(y=dt_probs[0], x=decision_tree_classifier.classes_, ax=axis[2])\n"
   ]
  },
  {
   "cell_type": "code",
   "execution_count": null,
   "metadata": {},
   "outputs": [],
   "source": [
    "ensemble_predictions = []\n",
    "for i in range(len(X_test)):\n",
    "    max_prob = max(svm_probs[i].max(), nb_probs[i].max(), dt_probs[i].max())\n",
    "    _max = 0\n",
    "\n",
    "    if max_prob == svm_probs[i].max():\n",
    "        _max = svm_classifier.classes_[np.argmax(svm_probs[i])]\n",
    "    elif max_prob == nb_probs[i].max():\n",
    "        _max = naive_bayes_classifier.classes_[np.argmax(nb_probs[i])]\n",
    "    else:\n",
    "        _max = decision_tree_classifier.classes_[np.argmax(dt_probs[i])]\n",
    "\n",
    "    ensemble_predictions.append(_max)\n"
   ]
  },
  {
   "cell_type": "code",
   "execution_count": null,
   "metadata": {},
   "outputs": [],
   "source": [
    "# Ensemble learning report\n",
    "ensemble_report = classification_report(y_test, ensemble_predictions)\n",
    "print(ensemble_report)\n"
   ]
  },
  {
   "cell_type": "code",
   "execution_count": null,
   "metadata": {},
   "outputs": [],
   "source": [
    "# Evaluate classifiers\n",
    "svm_accuracy = accuracy_score(y_test, svm_predictions)\n",
    "nb_accuracy = accuracy_score(y_test, nb_predictions)\n",
    "dt_accuracy = accuracy_score(y_test, dt_predictions)\n",
    "ensemble_accuracy = accuracy_score(y_test, ensemble_predictions)\n"
   ]
  },
  {
   "cell_type": "code",
   "execution_count": null,
   "metadata": {},
   "outputs": [],
   "source": [
    "# Create a bar chart to plot the accuracies\n",
    "labels = [\"SVM\", \"Naive Bayes\", \"Decision Tree\", \"Ensemble\"]\n",
    "accuracies = [svm_accuracy, nb_accuracy, dt_accuracy, ensemble_accuracy]\n",
    "accuracies = [100 * x for x in accuracies]\n",
    "\n",
    "fig, ax = plt.subplots(1, 1, figsize=(10, 4), dpi=300)\n",
    "ax = sns.barplot(y=accuracies, x=labels)\n",
    "ax.set_title(\"Accuracy of Models\")\n",
    "ax.bar_label(ax.containers[0], fontsize=10)\n"
   ]
  }
 ],
 "metadata": {
  "kernelspec": {
   "display_name": "py11",
   "language": "python",
   "name": "python3"
  },
  "language_info": {
   "codemirror_mode": {
    "name": "ipython",
    "version": 3
   },
   "file_extension": ".py",
   "mimetype": "text/x-python",
   "name": "python",
   "nbconvert_exporter": "python",
   "pygments_lexer": "ipython3",
   "version": "3.12.0"
  }
 },
 "nbformat": 4,
 "nbformat_minor": 2
}
