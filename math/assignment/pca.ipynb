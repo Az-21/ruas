{
 "cells": [
  {
   "cell_type": "code",
   "execution_count": null,
   "metadata": {},
   "outputs": [],
   "source": [
    "import numpy as np\n",
    "import pandas as pd\n",
    "import seaborn as sns; sns.set_style(\"darkgrid\")\n",
    "import matplotlib.pyplot as plt\n",
    "from sklearn import preprocessing\n",
    "from sklearn.decomposition import PCA"
   ]
  },
  {
   "cell_type": "code",
   "execution_count": null,
   "metadata": {},
   "outputs": [],
   "source": [
    "# Load Data\n",
    "df = pd.read_csv(\"./data.csv\", header=None)\n",
    "\n",
    "# Rename columns\n",
    "subjects = [\"C1\", \"C2\", \"C3\", \"C4\", \"C5\"]\n",
    "columns = {index: subject for index, subject in enumerate(subjects)}\n",
    "df.rename(columns=columns, inplace=True)\n",
    "df.head()"
   ]
  },
  {
   "cell_type": "code",
   "execution_count": null,
   "metadata": {},
   "outputs": [],
   "source": [
    "# Apply grade\n",
    "def grade(marks: float):\n",
    "  if marks >= 75: return \"S\"\n",
    "  if marks >= 70: return \"A\"\n",
    "  if marks >= 65: return \"B\"\n",
    "  if marks >= 60: return \"C\"\n",
    "  return \"F\"\n",
    "\n",
    "df[\"Average\"] = df[subjects].mean(axis=1)\n",
    "df[\"Grade\"] = df[\"Average\"].apply(grade)"
   ]
  },
  {
   "cell_type": "code",
   "execution_count": null,
   "metadata": {},
   "outputs": [],
   "source": [
    "# Scatter Matrix\n",
    "sns.pairplot(\n",
    "  df[subjects + [\"Grade\"]],\n",
    "  hue=\"Grade\",\n",
    "  hue_order=[\"S\", \"A\", \"B\", \"C\", \"F\"],\n",
    ")"
   ]
  },
  {
   "cell_type": "code",
   "execution_count": null,
   "metadata": {},
   "outputs": [],
   "source": [
    "# Correlation analysis\n",
    "correlation = df[subjects].corr()\n",
    "\n",
    "# Heatmap\n",
    "fig, ax = plt.subplots(figsize=(20, 20))\n",
    "sns.set(font_scale=3)\n",
    "sns.heatmap(correlation, annot=True, cmap=\"Greens\", square=True, ax=ax)"
   ]
  },
  {
   "cell_type": "code",
   "execution_count": null,
   "metadata": {},
   "outputs": [],
   "source": [
    "# Covariance matrix\n",
    "covariance_matrix = np.cov(df[subjects].T)\n",
    "print(covariance_matrix)"
   ]
  },
  {
   "cell_type": "code",
   "execution_count": null,
   "metadata": {},
   "outputs": [],
   "source": [
    "# Principle component analysis\n",
    "normalized_df = preprocessing.scale(df[subjects].T)\n",
    "\n",
    "pca = PCA(n_components=5)\n",
    "pca.fit(normalized_df)\n",
    "pca_data = pca.transform(normalized_df)\n",
    "\n",
    "principle_components = np.round(pca.explained_variance_ratio_ * 100, decimals=1)\n",
    "columns = [\"PC{}\".format(i+1) for i in range(len(principle_components))]\n",
    "principle_components_df = pd.DataFrame([principle_components], columns=columns)"
   ]
  },
  {
   "cell_type": "code",
   "execution_count": null,
   "metadata": {},
   "outputs": [],
   "source": [
    "# PCA error\n",
    "principal_features = pca.components_\n",
    "\n",
    "# Reconstruct using PCA -> Compare with original\n",
    "reconstructed_data = np.dot(principal_features.T, pca_data)\n",
    "reconstruction_error = np.mean(np.square(normalized_df.T - reconstructed_data), axis=0)\n",
    "print(reconstruction_error)"
   ]
  },
  {
   "cell_type": "code",
   "execution_count": null,
   "metadata": {},
   "outputs": [],
   "source": [
    "# Scree plot\n",
    "fig, ax = plt.subplots(figsize=(20, 10))\n",
    "sns.set(font_scale=2)\n",
    "ax = sns.barplot(principle_components_df)\n",
    "ax.set(xlabel=\"Principal Component\", ylabel=\"Explained Variance (%)\", title=\"Scree Plot\")"
   ]
  },
  {
   "cell_type": "code",
   "execution_count": null,
   "metadata": {},
   "outputs": [],
   "source": [
    "# PCA association\n",
    "pca_df = pd.DataFrame(pca_data, index=[*subjects], columns=columns)\n",
    "pca_df.index.name = \"Subject\"\n",
    "pca_df"
   ]
  },
  {
   "cell_type": "code",
   "execution_count": null,
   "metadata": {},
   "outputs": [],
   "source": [
    "# PCA plot\n",
    "fig, ax = plt.subplots(figsize=(20, 10))\n",
    "sns.set(font_scale=2)\n",
    "ax = sns.scatterplot(pca_df, x=\"PC1\", y=\"PC2\", hue=\"Subject\", s=10**3)\n",
    "ax.set(xlabel=f\"PC1: {principle_components[0]}%\", ylabel=f\"PC2: {principle_components[1]}%\", title=\"PCA Plot\")"
   ]
  }
 ],
 "metadata": {
  "kernelspec": {
   "display_name": "py11",
   "language": "python",
   "name": "python3"
  },
  "language_info": {
   "codemirror_mode": {
    "name": "ipython",
    "version": 3
   },
   "file_extension": ".py",
   "mimetype": "text/x-python",
   "name": "python",
   "nbconvert_exporter": "python",
   "pygments_lexer": "ipython3",
   "version": "3.11.4"
  },
  "orig_nbformat": 4
 },
 "nbformat": 4,
 "nbformat_minor": 2
}
